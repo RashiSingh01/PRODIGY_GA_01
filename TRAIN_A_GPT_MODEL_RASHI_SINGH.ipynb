{
  "nbformat": 4,
  "nbformat_minor": 0,
  "metadata": {
    "colab": {
      "provenance": []
    },
    "kernelspec": {
      "name": "python3",
      "display_name": "Python 3"
    },
    "language_info": {
      "name": "python"
    }
  },
  "cells": [
    {
      "cell_type": "code",
      "execution_count": null,
      "metadata": {
        "id": "Y97T52fOEV_k"
      },
      "outputs": [],
      "source": [
        "!pip install pytorch_lightning==1.8.6\n",
        "\n",
        "!pip uninstall -y aitextgen\n",
        "!pip install aitextgen==0.6.0\n",
        "\n",
        "import os\n",
        "os._exit(00)\n",
        "\n",
        "\n",
        "# Install compatible versions of dependencies\n",
        "!pip uninstall -y aitextgen\n",
        "!pip install aitextgen==0.6.0\n",
        "!pip install pytorch_lightning==1.8.6 transformers==4.42.4 torch==2.3.1\n",
        "\n",
        "from aitextgen import aitextgen\n",
        "\n",
        "# Initialize aitextgen with GPT-2 model\n",
        "ai = aitextgen(tf_gpt2=\"124M\", to_gpu=True)\n",
        "\n",
        "# Train the model\n",
        "ai.train(\"input.txt\",\n",
        "         line_by_line=True,\n",
        "         from_cache=False,\n",
        "         num_steps=2000,\n",
        "         generate_every=100,\n",
        "         save_every=500,\n",
        "         save_gdrive=False,\n",
        "         learning_rate=1e-3,\n",
        "         fp16=False,\n",
        "         batch_size=1,\n",
        "         )\n",
        "\n",
        "# Generate text with the trained model\n",
        "ai.generate(10, prompt=\"What a wonderful day\")"
      ]
    }
  ]
}